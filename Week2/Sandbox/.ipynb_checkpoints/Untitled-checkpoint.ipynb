{
 "cells": [
  {
   "cell_type": "code",
   "execution_count": 14,
   "metadata": {},
   "outputs": [],
   "source": [
    "def has_seven(k):\n",
    "    \"\"\"Returns True if at least one of the digits of k is a 7, False otherwise.\n",
    "\n",
    "    >>> has_seven(3)\n",
    "    False\n",
    "    >>> has_seven(7)\n",
    "    True\n",
    "    >>> has_seven(2734)\n",
    "    True\n",
    "    >>> has_seven(2634)\n",
    "    False\n",
    "    >>> has_seven(734)\n",
    "    True\n",
    "    >>> has_seven(7777)\n",
    "    True\n",
    "    >>> from construct_check import check\n",
    "    >>> check(HW_SOURCE_FILE, 'has_seven',\n",
    "    ...       ['Assign', 'AugAssign'])\n",
    "    True\n",
    "    \"\"\"\n",
    "    \"*** YOUR CODE HERE ***\"\n",
    "    if k % 10 == 7:\n",
    "        return True\n",
    "    elif k>=10:\n",
    "        return has_seven(k // 10)\n",
    "        \n",
    "    return False\n",
    "\n",
    "\n",
    "def pingpong(n):\n",
    "    \"\"\"Return the nth element of the ping-pong sequence.\n",
    "\n",
    "    >>> pingpong(7)\n",
    "    7\n",
    "    >>> pingpong(8)\n",
    "    6\n",
    "    >>> pingpong(15)\n",
    "    1\n",
    "    >>> pingpong(21)\n",
    "    -1\n",
    "    >>> pingpong(22)\n",
    "    0\n",
    "    >>> pingpong(30)\n",
    "    6\n",
    "    >>> pingpong(68)\n",
    "    2\n",
    "    >>> pingpong(69)\n",
    "    1\n",
    "    >>> pingpong(70)\n",
    "    0\n",
    "    >>> pingpong(71)\n",
    "    1\n",
    "    >>> pingpong(72)\n",
    "    0\n",
    "    >>> pingpong(100)\n",
    "    2\n",
    "    >>> from construct_check import check\n",
    "    >>> check(HW_SOURCE_FILE, 'pingpong', ['Assign', 'AugAssign'])\n",
    "    True\n",
    "    \"\"\"\n",
    "    \"*** YOUR CODE HERE ***\"\n",
    "\n",
    "    i=1\n",
    "    val = 0\n",
    "    dif=1\n",
    "    while i <= n:\n",
    "        val += dif\n",
    "        if i % 7 == 0 or has_seven(i):\n",
    "            dif *= -1\n",
    "        i+=1\n",
    "    return val"
   ]
  },
  {
   "cell_type": "code",
   "execution_count": 24,
   "metadata": {},
   "outputs": [
    {
     "name": "stdout",
     "output_type": "stream",
     "text": [
      "2\n",
      "1\n",
      "0\n",
      "1\n",
      "2\n",
      "3\n",
      "4\n",
      "5\n"
     ]
    }
   ],
   "source": [
    "for a in range(68,76):\n",
    "    print(pingpong(a))"
   ]
  },
  {
   "cell_type": "code",
   "execution_count": 5,
   "metadata": {},
   "outputs": [
    {
     "data": {
      "text/plain": [
       "3"
      ]
     },
     "execution_count": 5,
     "metadata": {},
     "output_type": "execute_result"
    }
   ],
   "source": [
    "33 // 10"
   ]
  },
  {
   "cell_type": "code",
   "execution_count": 25,
   "metadata": {},
   "outputs": [
    {
     "data": {
      "text/plain": [
       "False"
      ]
     },
     "execution_count": 25,
     "metadata": {},
     "output_type": "execute_result"
    }
   ],
   "source": [
    "has_seven(72)"
   ]
  },
  {
   "cell_type": "code",
   "execution_count": null,
   "metadata": {},
   "outputs": [],
   "source": []
  }
 ],
 "metadata": {
  "kernelspec": {
   "display_name": "Python 3",
   "language": "python",
   "name": "python3"
  },
  "language_info": {
   "codemirror_mode": {
    "name": "ipython",
    "version": 3
   },
   "file_extension": ".py",
   "mimetype": "text/x-python",
   "name": "python",
   "nbconvert_exporter": "python",
   "pygments_lexer": "ipython3",
   "version": "3.7.4"
  }
 },
 "nbformat": 4,
 "nbformat_minor": 2
}
